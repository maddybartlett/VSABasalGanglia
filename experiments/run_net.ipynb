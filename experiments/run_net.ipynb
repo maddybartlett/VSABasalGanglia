{
 "cells": [
  {
   "cell_type": "code",
   "execution_count": 1,
   "metadata": {},
   "outputs": [],
   "source": [
    "%load_ext autoreload\n",
    "%autoreload 2\n",
    "\n",
    "%matplotlib inline\n",
    "## For running trial\n",
    "import sys\n",
    "sys.path.insert(1, '..\\\\network')\n",
    "from trial import BGTrial\n",
    "import nengo\n",
    "import numpy as np\n",
    "import pandas as pd\n",
    "\n",
    "import matplotlib.pyplot as plt"
   ]
  },
  {
   "cell_type": "code",
   "execution_count": 2,
   "metadata": {},
   "outputs": [],
   "source": [
    "run_num = 1 ## how many times to run the network\n",
    "sals = [0.1,0.2,0.3] ## list of salience values being used\n",
    "n_ensembles = 512 ## number of ensembles\n",
    "sp_dims = 512 ## number of dimensions for SSP encoding\n",
    "\n",
    "rands=[11] ## random value for seed "
   ]
  },
  {
   "cell_type": "code",
   "execution_count": 3,
   "metadata": {},
   "outputs": [
    {
     "name": "stdout",
     "output_type": "stream",
     "text": [
      "Build finished in 0:03:16.                                                      \n",
      "Run time: 3 seconds\n",
      "Simulation finished in 0:03:43.                                                 \n"
     ]
    }
   ],
   "source": [
    "bg = BGTrial() ## initialise trial \n",
    "## for each seed, run the network \n",
    "for seed in rands:\n",
    "    results = bg.run(saliences=[0.1,0.2,0.3],\n",
    "                    run_num=run_num,\n",
    "                    sp_dims=sp_dims,\n",
    "                    version='new',\n",
    "                    n_ensembles=n_ensembles,\n",
    "                    n_neurons=int(200*(sp_dims/n_ensembles)),\n",
    "                    relus_list=[],\n",
    "                    neuron_type=nengo.neurons.LIF(), ## use spiking neurons with nengo.neurons.LIF(), or non-spiking with nengo.neurons.LIFRate()\n",
    "                    plot=False, \n",
    "                    get_spikes=True,\n",
    "                    verbose=False,\n",
    "                    seed=seed,\n",
    "                    data_format='npz',\n",
    "                    data_dir='..\\\\data\\\\debug',) ## change to match desired location for saving data"
   ]
  },
  {
   "cell_type": "code",
   "execution_count": 4,
   "metadata": {},
   "outputs": [
    {
     "name": "stdout",
     "output_type": "stream",
     "text": [
      "0.06921783108789131\n",
      "0.08028059381817892\n",
      "0.09762518478317556\n"
     ]
    }
   ],
   "source": [
    "## Calculate and print out performance metrics during the timestep 10 steps before the end of each 1 second bout \n",
    "## i.e. in timestep 990, 1990 and 2990\n",
    "for i in range(3):\n",
    "    ## get indexes for first and last time step each second\n",
    "    if i == 0:\n",
    "        start = 0\n",
    "    else:\n",
    "        start = 1000*(i)-1\n",
    "    end =  (1000*(i+1))-1\n",
    "    \n",
    "    ## index of minimum salience\n",
    "    min_idx = np.argmin(results['input_actions'][(1000*(i+1))-10])\n",
    "    ## index of maximum salience\n",
    "    max_idx = np.argmax(results['input_actions'][(1000*(i+1))-10])\n",
    "    ## difference between mean min and max salience coming out\n",
    "    diff_out = np.asarray(results['decoded_saliences'])[start:end, max_idx].mean() - np.asarray(results['decoded_saliences'])[start:end, min_idx].mean()\n",
    "    ## difference between min and max salience going in\n",
    "    diff_in = results['input_actions'][(1000*(i+1))-10][max_idx] - results['input_actions'][(1000*(i+1))-10][min_idx] \n",
    "    ## has the difference between saliences been exaggerated\n",
    "    Delta_diff = diff_out - diff_in\n",
    "\n",
    "    print(Delta_diff)"
   ]
  },
  {
   "cell_type": "code",
   "execution_count": null,
   "metadata": {},
   "outputs": [],
   "source": []
  }
 ],
 "metadata": {
  "kernelspec": {
   "display_name": "bgenv",
   "language": "python",
   "name": "python3"
  },
  "language_info": {
   "codemirror_mode": {
    "name": "ipython",
    "version": 3
   },
   "file_extension": ".py",
   "mimetype": "text/x-python",
   "name": "python",
   "nbconvert_exporter": "python",
   "pygments_lexer": "ipython3",
   "version": "3.11.0"
  }
 },
 "nbformat": 4,
 "nbformat_minor": 2
}
