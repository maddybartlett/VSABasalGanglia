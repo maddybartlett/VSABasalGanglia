{
 "cells": [
  {
   "cell_type": "code",
   "execution_count": 127,
   "metadata": {},
   "outputs": [
    {
     "name": "stdout",
     "output_type": "stream",
     "text": [
      "The autoreload extension is already loaded. To reload it, use:\n",
      "  %reload_ext autoreload\n"
     ]
    }
   ],
   "source": [
    "%load_ext autoreload\n",
    "%autoreload 2\n",
    "\n",
    "%matplotlib inline\n",
    "## For running trial\n",
    "import sys\n",
    "sys.path.insert(1, '..\\\\network')\n",
    "from trial import BGTrial\n",
    "import nengo\n",
    "import numpy as np\n",
    "import pandas as pd\n",
    "\n",
    "import matplotlib.pyplot as plt"
   ]
  },
  {
   "cell_type": "code",
   "execution_count": 128,
   "metadata": {},
   "outputs": [],
   "source": [
    "run_num = 1\n",
    "sals = [0.1,0.2,0.3]\n",
    "n_ensembles=512\n",
    "sp_dims=512"
   ]
  },
  {
   "cell_type": "code",
   "execution_count": 129,
   "metadata": {},
   "outputs": [],
   "source": [
    "rands=[11]"
   ]
  },
  {
   "cell_type": "code",
   "execution_count": 130,
   "metadata": {},
   "outputs": [
    {
     "name": "stdout",
     "output_type": "stream",
     "text": [
      "Build finished in 0:01:36.                                                      \n",
      "Simulation finished in 0:06:31.                                                 \n"
     ]
    }
   ],
   "source": [
    "bg = BGTrial()\n",
    "for seed in rands:\n",
    "    results = bg.run(saliences=[0.1,0.2,0.3],\n",
    "                    run_num=run_num,\n",
    "                    sp_dims=sp_dims,\n",
    "                    version='new',\n",
    "                    n_ensembles=n_ensembles,\n",
    "                    n_neurons=int(200*(sp_dims/n_ensembles)),\n",
    "                    relus_list=[],\n",
    "                    neuron_type=nengo.neurons.LIF(),\n",
    "                    plot=False, \n",
    "                    get_spikes=True,\n",
    "                    verbose=False,\n",
    "                    seed=seed,\n",
    "                    data_format='npz',\n",
    "                    data_dir='..\\\\data\\\\debug',)"
   ]
  },
  {
   "cell_type": "code",
   "execution_count": 131,
   "metadata": {},
   "outputs": [
    {
     "name": "stdout",
     "output_type": "stream",
     "text": [
      "t = 0s\n",
      "Delta diff = 0.1922017918982948\n",
      "t = 1s\n",
      "Delta diff = 0.1759135149306283\n",
      "t = 2s\n",
      "Delta diff = 0.1948551893852068\n"
     ]
    }
   ],
   "source": [
    "for i in range(3):\n",
    "    i+=1\n",
    "    ## index of minimum salience\n",
    "    min_idx = np.argmin(results['input_actions'][(1000*i)-10])\n",
    "    ## index of maximum salience\n",
    "    max_idx = np.argmax(results['input_actions'][(1000*i)-10])\n",
    "    ## difference between min and max salience coming out\n",
    "    diff_out = results['decoded_saliences'][(1000*i)-10][max_idx] - results['decoded_saliences'][(1000*i)-10][min_idx]\n",
    "    ## difference between min and max salience going in\n",
    "    diff_in = results['input_actions'][(1000*i)-10][max_idx] - results['input_actions'][(1000*i)-10][min_idx] \n",
    "    ## has the difference between saliences been exaggerated\n",
    "    Delta_diff = diff_out - diff_in\n",
    "\n",
    "    print(f't = {i-1}s')\n",
    "    print(f'Delta diff = {Delta_diff}')"
   ]
  },
  {
   "cell_type": "code",
   "execution_count": 132,
   "metadata": {},
   "outputs": [
    {
     "name": "stdout",
     "output_type": "stream",
     "text": [
      "0.1797061485648768\n",
      "0.1804934554811845\n",
      "0.1860667741754805\n"
     ]
    }
   ],
   "source": [
    "for i in range(3):\n",
    "    ## get indexes for first and last time step each second\n",
    "    if i == 0:\n",
    "        start = 0\n",
    "    else:\n",
    "        start = 1000*(i)-1\n",
    "    end =  (1000*(i+1))-1\n",
    "    \n",
    "    ## index of minimum salience\n",
    "    min_idx = np.argmin(results['input_actions'][(1000*(i+1))-10])\n",
    "    ## index of maximum salience\n",
    "    max_idx = np.argmax(results['input_actions'][(1000*(i+1))-10])\n",
    "    ## difference between mean min and max salience coming out\n",
    "    diff_out = np.asarray(results['decoded_saliences'])[start:end, max_idx].mean() - np.asarray(results['decoded_saliences'])[start:end, min_idx].mean()\n",
    "    ## difference between min and max salience going in\n",
    "    diff_in = results['input_actions'][(1000*(i+1))-10][max_idx] - results['input_actions'][(1000*(i+1))-10][min_idx] \n",
    "    ## has the difference between saliences been exaggerated\n",
    "    Delta_diff = diff_out - diff_in\n",
    "\n",
    "    print(Delta_diff)"
   ]
  },
  {
   "cell_type": "code",
   "execution_count": 140,
   "metadata": {},
   "outputs": [
    {
     "data": {
      "text/plain": [
       "2"
      ]
     },
     "execution_count": 140,
     "metadata": {},
     "output_type": "execute_result"
    }
   ],
   "source": [
    "sorted_actions = np.argsort(results['input_actions'][(1000*(1+1))-10])\n",
    "second_idx = sorted_actions[1]\n",
    "second_idx"
   ]
  },
  {
   "cell_type": "code",
   "execution_count": 139,
   "metadata": {},
   "outputs": [
    {
     "data": {
      "text/plain": [
       "array([0.1, 0.3, 0.2])"
      ]
     },
     "execution_count": 139,
     "metadata": {},
     "output_type": "execute_result"
    }
   ],
   "source": [
    "results['input_actions'][(1000*(1+1))-10]"
   ]
  },
  {
   "cell_type": "code",
   "execution_count": null,
   "metadata": {},
   "outputs": [],
   "source": []
  }
 ],
 "metadata": {
  "kernelspec": {
   "display_name": "Python3_bgenv",
   "language": "python",
   "name": "python3_bgenv"
  },
  "language_info": {
   "codemirror_mode": {
    "name": "ipython",
    "version": 3
   },
   "file_extension": ".py",
   "mimetype": "text/x-python",
   "name": "python",
   "nbconvert_exporter": "python",
   "pygments_lexer": "ipython3",
   "version": "3.11.5"
  }
 },
 "nbformat": 4,
 "nbformat_minor": 2
}
