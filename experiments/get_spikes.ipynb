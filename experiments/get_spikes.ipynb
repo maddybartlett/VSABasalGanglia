{
 "cells": [
  {
   "cell_type": "code",
   "execution_count": 1,
   "metadata": {},
   "outputs": [],
   "source": [
    "%load_ext autoreload\n",
    "%autoreload 2\n",
    "\n",
    "%matplotlib inline\n",
    "## For running trial\n",
    "import sys\n",
    "sys.path.insert(1, '..\\\\network')\n",
    "from trial import BGTrial\n",
    "import nengo\n",
    "import numpy as np\n",
    "import pandas as pd"
   ]
  },
  {
   "cell_type": "markdown",
   "metadata": {},
   "source": [
    "Set some parameters for the task and network"
   ]
  },
  {
   "cell_type": "code",
   "execution_count": 2,
   "metadata": {},
   "outputs": [],
   "source": [
    "run_num = 1 # number of runs\n",
    "sals = [0.1,0.2,0.3,0.4,0.5,0.6] # list of saliences\n",
    "n_ensembles=512 # number of ensembles per ensemble array\n",
    "sp_dims=512 # dimensionality of SP representation\n",
    "rands=[11] # seed"
   ]
  },
  {
   "cell_type": "markdown",
   "metadata": {},
   "source": [
    "Run the Basal Ganglia"
   ]
  },
  {
   "cell_type": "code",
   "execution_count": 3,
   "metadata": {},
   "outputs": [
    {
     "name": "stdout",
     "output_type": "stream",
     "text": [
      "Build finished in 0:02:12.                                                      \n",
      "Simulation finished in 0:04:19.                                                 \n"
     ]
    }
   ],
   "source": [
    "bg = BGTrial()\n",
    "for seed in rands:\n",
    "    results = bg.run(saliences=sals,\n",
    "                    run_num=run_num,\n",
    "                    sp_dims=sp_dims,\n",
    "                    version='new',\n",
    "                    n_ensembles=n_ensembles,\n",
    "                    n_neurons=int(200*(sp_dims/n_ensembles)),\n",
    "                    relus_list=[],\n",
    "                    neuron_type=nengo.neurons.LIF(),\n",
    "                    plot=False, \n",
    "                    get_spikes=True,\n",
    "                    verbose=False,\n",
    "                    seed=seed,\n",
    "                    data_format='npz',\n",
    "                    data_dir='..\\\\data\\\\spikes',)"
   ]
  },
  {
   "cell_type": "markdown",
   "metadata": {},
   "source": [
    "Make a note of the save file name, you'll need it for generating the plots in the gen_spike_plot script"
   ]
  }
 ],
 "metadata": {
  "kernelspec": {
   "display_name": "Python3_bgenv",
   "language": "python",
   "name": "python3_bgenv"
  },
  "language_info": {
   "codemirror_mode": {
    "name": "ipython",
    "version": 3
   },
   "file_extension": ".py",
   "mimetype": "text/x-python",
   "name": "python",
   "nbconvert_exporter": "python",
   "pygments_lexer": "ipython3",
   "version": "3.11.5"
  }
 },
 "nbformat": 4,
 "nbformat_minor": 2
}
