{
 "cells": [
  {
   "cell_type": "code",
   "execution_count": 2,
   "metadata": {},
   "outputs": [],
   "source": [
    "%load_ext autoreload\n",
    "%autoreload 2\n",
    "\n",
    "%matplotlib inline\n",
    "## For running trial\n",
    "import sys\n",
    "sys.path.insert(1, '..\\\\network')\n",
    "from trial import BGTrial\n",
    "import nengo\n",
    "import numpy as np\n",
    "import pandas as pd\n",
    "import random"
   ]
  },
  {
   "cell_type": "markdown",
   "metadata": {},
   "source": [
    "Set some parameters for the task and network"
   ]
  },
  {
   "cell_type": "code",
   "execution_count": 5,
   "metadata": {},
   "outputs": [],
   "source": [
    "run_num = 1 # number of runs\n",
    "\n",
    "### Generate random saliences\n",
    "salience_list = np.arange(0.1,1.9, 0.2) ## list of saliences to choose from, ranging from 0.1 to 1.9\n",
    "sals = random.choices(salience_list, k=19) ## random selection of saliences \n",
    "sals.append(2.0) ## make sure there's only 1 max action\n",
    "\n",
    "### Alternatively, you could set the saliences manually\n",
    "#sals = [0.1,0.2,0.3,0.4,0.5,0.6] # list of saliences\n",
    "\n",
    "n_ensembles=512 # number of ensembles per ensemble array. We use 1 ensemble per ssp dimension\n",
    "sp_dims=512 # dimensionality of SP representation\n",
    "rands=[11] # seed. For the published work we used 11"
   ]
  },
  {
   "cell_type": "markdown",
   "metadata": {},
   "source": [
    "Run the Basal Ganglia"
   ]
  },
  {
   "cell_type": "code",
   "execution_count": 16,
   "metadata": {},
   "outputs": [
    {
     "name": "stdout",
     "output_type": "stream",
     "text": [
      "Build finished in 0:03:19.                                                      \n",
      "Run time: 20 seconds\n",
      "Simulation finished in 0:21:53.                                                 \n"
     ]
    }
   ],
   "source": [
    "bg = BGTrial() ## basal ganglia trial script\n",
    "## for each seed\n",
    "for seed in rands:\n",
    "    ## run the basal ganglia network using the set saliences\n",
    "    results = bg.run(saliences=sals,\n",
    "                    run_num=run_num,\n",
    "                    sp_dims=sp_dims,\n",
    "                    version='new', \n",
    "                    n_ensembles=n_ensembles,\n",
    "                    n_neurons=int(200*(sp_dims/n_ensembles)),\n",
    "                    relus_list=[],\n",
    "                    neuron_type=nengo.neurons.LIF(), ## using spiking Leaky Integrate-and-Fire neurons \n",
    "                    plot=False, \n",
    "                    get_spikes=True, ## save the spike data from GPi\n",
    "                    verbose=False,\n",
    "                    seed=seed,\n",
    "                    data_format='npz',\n",
    "                    data_dir='..\\\\data\\\\spikes',)"
   ]
  },
  {
   "cell_type": "markdown",
   "metadata": {},
   "source": [
    "Make a note of the save file name, you'll need it for generating the plots in the gen_spike_plot script"
   ]
  }
 ],
 "metadata": {
  "kernelspec": {
   "display_name": "bgenv",
   "language": "python",
   "name": "python3"
  },
  "language_info": {
   "codemirror_mode": {
    "name": "ipython",
    "version": 3
   },
   "file_extension": ".py",
   "mimetype": "text/x-python",
   "name": "python",
   "nbconvert_exporter": "python",
   "pygments_lexer": "ipython3",
   "version": "3.11.5"
  }
 },
 "nbformat": 4,
 "nbformat_minor": 2
}
